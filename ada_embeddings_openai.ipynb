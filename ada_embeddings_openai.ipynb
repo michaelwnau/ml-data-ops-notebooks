{
  "nbformat": 4,
  "nbformat_minor": 0,
  "metadata": {
    "colab": {
      "private_outputs": true,
      "provenance": [],
      "authorship_tag": "ABX9TyN9eF+IYBjp3IRtozC6ZG1P",
      "include_colab_link": true
    },
    "kernelspec": {
      "name": "python3",
      "display_name": "Python 3"
    },
    "language_info": {
      "name": "python"
    }
  },
  "cells": [
    {
      "cell_type": "markdown",
      "metadata": {
        "id": "view-in-github",
        "colab_type": "text"
      },
      "source": [
        "<a href=\"https://colab.research.google.com/github/michaelwnau/ml-data-ops-notebooks/blob/main/ada_embeddings_openai.ipynb\" target=\"_parent\"><img src=\"https://colab.research.google.com/assets/colab-badge.svg\" alt=\"Open In Colab\"/></a>"
      ]
    },
    {
      "cell_type": "code",
      "source": [
        "!pip install openai\n"
      ],
      "metadata": {
        "id": "gcqi-bZm4ERx"
      },
      "execution_count": null,
      "outputs": []
    },
    {
      "cell_type": "code",
      "execution_count": null,
      "metadata": {
        "id": "nm894CYz3Ila"
      },
      "outputs": [],
      "source": [
        "# 1. Mount Google Drive\n",
        "from google.colab import drive\n",
        "drive.mount('/content/drive')\n"
      ]
    },
    {
      "cell_type": "code",
      "source": [
        "# 2. Ingest a text file from a folder path on Google Drive\n",
        "folder_path = \"/PATH/TO/YOUR/FOLDER/\"  # Replace with your folder path\n",
        "file_name = \"name/of/file.txt\"  # Replace with your file name\n",
        "with open(f\"{folder_path}/{file_name}\", \"r\") as file:\n",
        "    text = file.read()\n"
      ],
      "metadata": {
        "id": "elSwzguN3NwN"
      },
      "execution_count": null,
      "outputs": []
    },
    {
      "cell_type": "code",
      "source": [
        "# 3. Chunk the text file to 1000 token chunks\n",
        "import re\n",
        "chunks = re.findall(r'.{1,1000}(?:\\s|$)', text)"
      ],
      "metadata": {
        "id": "yHfh53lk3OEy"
      },
      "execution_count": null,
      "outputs": []
    },
    {
      "cell_type": "code",
      "source": [
        "# 4. Use OpenAI API to generate embeddings\n",
        "import openai\n",
        "openai.api_key = \"<YOUR OPENAI API KEY>\"  # Replace with your OpenAI API key\n",
        "\n",
        "def get_embedding(text, model=\"text-embedding-ada-002\"):\n",
        "    text = text.replace(\"\\n\", \" \")\n",
        "    return openai.Embedding.create(input=[text], model=model)['data'][0]['embedding']\n",
        "\n",
        "embeddings = [get_embedding(chunk) for chunk in chunks]\n"
      ],
      "metadata": {
        "id": "KNCSIIxl3OV-"
      },
      "execution_count": null,
      "outputs": []
    },
    {
      "cell_type": "code",
      "source": [
        "# 5. Export embeddings to a file format (e.g., JSON) for storage in a vector database\n",
        "import json\n",
        "output_file_name = \"<NAME THE OUTPUT FILE>\"\n",
        "with open(f\"{folder_path}/{output_file_name}\", \"w\") as file:\n",
        "    json.dump(embeddings, file)"
      ],
      "metadata": {
        "id": "aQk3XkkT3PBu"
      },
      "execution_count": null,
      "outputs": []
    }
  ]
}